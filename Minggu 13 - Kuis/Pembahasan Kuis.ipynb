{
 "cells": [
  {
   "cell_type": "markdown",
   "id": "0275a9cf",
   "metadata": {},
   "source": [
    "# KUIS (23 Mei 2021)"
   ]
  },
  {
   "cell_type": "markdown",
   "id": "40a824f3",
   "metadata": {},
   "source": [
    "1.\tAndi mengikuti ujian yang berisi 20 pertanyaan pilihan ganda. Setiap pertanyaan memiliki empat opsi jawaban yang memungkinkan. Andi merasa yakin bisa menjawab 10 pertanyaan dengan benar, tetapi Andi tidak yakin dengan 10 pertanyaan lainnya sehingga Andi memilih jawaban secara acak. Jika X merupakan Skor total jawaban benar dan Nilai minimal kelulusan adalah > 75 atau X > 15, maka hitunglah probabilitas Andi lulus ujian!"
   ]
  },
  {
   "cell_type": "markdown",
   "id": "ed2bf255",
   "metadata": {},
   "source": [
    "Soal no 1 merupakan kombinasi dari variabel acak dengan distribusi binomial. Disini yang menjadi pokok permasalahan kita adalah 10 jawaban yang dijawab Andi secara acak sehingga n = 10. Probabilitas Andi menjawab suatu soal acak dengan benar adalah 1/4 atau p = 0.25. Sehingga dapat dihitung dengan menggunakan distribusi binomial berikut."
   ]
  },
  {
   "cell_type": "code",
   "execution_count": 1,
   "id": "faadc91b",
   "metadata": {},
   "outputs": [
    {
     "name": "stdout",
     "output_type": "stream",
     "text": [
      "r\tp(r)\n",
      "0\t0.056313514709472684\n",
      "1\t0.18771171569824247\n",
      "2\t0.28156757354736334\n",
      "3\t0.2502822875976565\n",
      "4\t0.14599800109863295\n",
      "5\t0.058399200439453194\n",
      "6\t0.016222000122070344\n",
      "7\t0.003089904785156255\n",
      "8\t0.00038623809814453147\n",
      "9\t2.8610229492187517e-05\n",
      "10\t9.5367431640625e-07\n"
     ]
    }
   ],
   "source": [
    "import numpy as np\n",
    "from scipy.stats import binom\n",
    "n = 10      #jumlah soal yang dijawab acak\n",
    "p = 0.25    #probabilitas jawaban benar\n",
    "r_values = list(range(n + 1))\n",
    "dist = [binom.pmf(r, n, p) for r in r_values ]\n",
    "print(\"r\\tp(r)\")\n",
    "for i in range(n + 1):\n",
    "    print(str(r_values[i]) + \"\\t\" + str(dist[i]))"
   ]
  },
  {
   "cell_type": "markdown",
   "id": "77383238",
   "metadata": {},
   "source": [
    "Karena nilai minimal kelulusan adalah menjawab lebih dari 15 jawaban benar. Maka probabilitas Andi lulus ujian adalah hasil penjumlahan distribusi binomial untuk r=6 s/d r=10"
   ]
  },
  {
   "cell_type": "code",
   "execution_count": 2,
   "id": "5c1183d1",
   "metadata": {},
   "outputs": [
    {
     "name": "stdout",
     "output_type": "stream",
     "text": [
      "Probabilitas Andi lulus ujian adalah :  1.9727706909179723 %\n"
     ]
    }
   ],
   "source": [
    "print (\"Probabilitas Andi lulus ujian adalah : \", (dist[6]+dist[7]+dist[8]+dist[9]+dist[10])*100,\"%\")"
   ]
  },
  {
   "cell_type": "markdown",
   "id": "5195cc64",
   "metadata": {},
   "source": [
    "2. Apabila X didefinisikan sebagai variabel acak kontinu dengan fungsi kepadatan f(x)=4x^3 untuk 0< x ≤1. Tentukan P(X≤2/3|X>1/3)!\n"
   ]
  },
  {
   "cell_type": "markdown",
   "id": "91398a99",
   "metadata": {},
   "source": [
    "Pada soal ini kita dapat menyelesaikan dengan mudah dengan menggunakan perhitungan berikut."
   ]
  },
  {
   "attachments": {
    "image.png": {
     "image/png": "[encoded data removed]"
    }
   },
   "cell_type": "markdown",
   "id": "755d440d",
   "metadata": {},
   "source": [
    "![image.png](attachment:image.png)"
   ]
  },
  {
   "cell_type": "markdown",
   "id": "8092fb08",
   "metadata": {},
   "source": [
    "Sehingga nilai P(X≤2/3|X>1/3) adalah 3/16"
   ]
  },
  {
   "cell_type": "markdown",
   "id": "9b7e0559",
   "metadata": {},
   "source": [
    "3. Terdapat 500 tiket undian yang dijual dengan harga Rp. 5.000,00 per tiket. Terdapat dua tiket untuk memperoleh dua hadiah utama yang masing-masing bernilai Rp. 200.000,00. Terdapat lima tiket untuk memperoleh hadiah kedua dimana masing-masing senilai Rp. 100.000,00 dan 10 tiket tempat ketiga untuk memperoleh hadiah masing-masing senilai Rp 50.000,00. Tentukan nilai keuntungan yang diharapkan oleh pembeli tiket undian ketika ia membeli sebuah tiket undian! (Petunjuk: perhatikan juga harga tiket yang dibeli oleh pembeli karena mempengaruhi keuntungan yang diharapkan)"
   ]
  },
  {
   "cell_type": "markdown",
   "id": "79013575",
   "metadata": {},
   "source": [
    "Fungsi expect value di atas digunakan untuk menghitung nilai yang diharapkan. Untuk parameter yang digunakan adalah a yaitu jumlah keuntungan dan kerugian yang diharapkan sehingga nilainya adalah -5000(kerugian tidak memperoleh hadiah sehingga minus harga beli yaitu 5000), 45000(keuntungan apabila memperoleh hadiah ketiga minus harga beli), 95000(keuntungan apabila memperoleh hadiah kedua minus harga beli), 195000(keuntungan apabila memperoleh hadiah pertama minus harga beli). Probabilitas mendapat keuntungan 45k adalah 10/500 = 0.02, 95k adalah 5/500 = 0.01, 195k=0.004, dan sisanya probabilitas tidak memperoleh hadiah adalah 0.966. Sehingga diperoleh hasil berikut."
   ]
  },
  {
   "cell_type": "code",
   "execution_count": 3,
   "id": "0abcfeb0",
   "metadata": {},
   "outputs": [
    {
     "name": "stdout",
     "output_type": "stream",
     "text": [
      "Nilai keuntungan yang diharapkan oleh pembeli tiket undian ketika ia membeli sebuah tiket undian adalah -2200.0 atau dengan kata lain pembeli mengharapkan kerugian sebesar Rp. 2.200,00. Sehingga nilai moralnya adalah \u001b[1m jangan berjudi / GACHA :p\n"
     ]
    }
   ],
   "source": [
    "def expect_value(a, n, prb):\n",
    "    sum = 0\n",
    "    for i in range(0, n):\n",
    "        sum += (a[i] * prb[i]) \n",
    "    return float(sum)\n",
    "a = [ -5000, 45000, 95000, 195000 ]\n",
    "n = len(a);\n",
    "prb = [ 0.966, 0.02, 0.01, 0.004 ]\n",
    "expect = expect_value(a, n, prb)\n",
    "print( \"Nilai keuntungan yang diharapkan oleh pembeli tiket undian ketika ia membeli sebuah tiket undian adalah\",expect,\"atau dengan kata lain pembeli mengharapkan kerugian sebesar Rp. 2.200,00. Sehingga nilai moralnya adalah \\033[1m jangan berjudi / GACHA :p\")"
   ]
  },
  {
   "cell_type": "markdown",
   "id": "1f7b7dff",
   "metadata": {},
   "source": [
    "4. Seorang agen asuransi menjual polis asuransi jiwa kepada lima orang dengan usia dan kondisi kesehatan yang sama. Menurut data terbaru, kemungkinan seseorang bisa hidup selama 30 tahun atau lebih adalah 66,7%. Hitung probabilitas bahwa setelah 30 tahun: (a) Kelima orang itu masih hidup. (b) Setidaknya tiga orang masih hidup. (c) Tepatnya dua orang yang masih hidup! (Petunjuk: gunakan distribusi binomial)"
   ]
  },
  {
   "cell_type": "markdown",
   "id": "ab4ef50b",
   "metadata": {},
   "source": [
    "Pada soal ini dapat dinotasikan bahwa n = 5 atau terdapat lima orang pembeli polis asuransi jiwa. Sedangkan probabilitas adalah kemungkinan hidup selama 30 tahun kedepan adalah 66.7 atau p = 0.667. Sehingga dapat dihitung tabel binomial berikut :"
   ]
  },
  {
   "cell_type": "code",
   "execution_count": 4,
   "id": "af5b3f06",
   "metadata": {},
   "outputs": [
    {
     "name": "stdout",
     "output_type": "stream",
     "text": [
      "r\tp(r)\n",
      "0\t0.004094691316892999\n",
      "1\t0.04100839502053498\n",
      "2\t0.16427987674892994\n",
      "3\t0.3290530864610699\n",
      "4\t0.32954716016446495\n",
      "5\t0.13201679028810703\n"
     ]
    }
   ],
   "source": [
    "import numpy as np\n",
    "from scipy.stats import binom\n",
    "n = 5      #jumlah soal yang dijawab acak\n",
    "p = 0.667    #probabilitas jawaban benar\n",
    "r_values = list(range(n + 1))\n",
    "dist = [binom.pmf(r, n, p) for r in r_values ]\n",
    "print(\"r\\tp(r)\")\n",
    "for i in range(n + 1):\n",
    "    print(str(r_values[i]) + \"\\t\" + str(dist[i]))"
   ]
  },
  {
   "cell_type": "markdown",
   "id": "3dc68f14",
   "metadata": {},
   "source": [
    "Probabilitas kelima orang hidup adalah hasil distribusi untuk r = 5. Sedangkan untuk probabilitas setidaknya ada tiga orang yang masih hidup adalah distribusi untuk r = 3 + r = 4 + r = 5. Sedangkan untuk probabilitas tepatnya dua orang yang hidup adalah : hasil distribusi untuk r = 2. Sehingga menghasilkan nilai berikut"
   ]
  },
  {
   "cell_type": "code",
   "execution_count": 5,
   "id": "71d790ed",
   "metadata": {},
   "outputs": [
    {
     "name": "stdout",
     "output_type": "stream",
     "text": [
      "a. Probabilitas kelima orang itu masih hidup adalah 13.201679028810704 %\n",
      "b. Probabilitas setidaknya tiga orang masih hidup adalah 79.06170369136419 %\n",
      "c. Probabilitas tepatnya dua orang yang masih hidup adalah 16.427987674892993 %\n"
     ]
    }
   ],
   "source": [
    "print (\"a. Probabilitas kelima orang itu masih hidup adalah\", (dist[5])*100,\"%\")\n",
    "print (\"b. Probabilitas setidaknya tiga orang masih hidup adalah\", (dist[3]+dist[4]+dist[5])*100,\"%\")\n",
    "print (\"c. Probabilitas tepatnya dua orang yang masih hidup adalah\", (dist[2])*100,\"%\")"
   ]
  },
  {
   "cell_type": "markdown",
   "id": "eb101c83",
   "metadata": {},
   "source": [
    "5.\tSebuah perusahaan komputer memesan chip dalam jumlah besar dari sebuah perusahaan chip. Setelah menerima pengiriman chip, 800 chip dipilih secara acak untuk diinspeksi. Jika ditemukan kurang dari sama dengan tiga chip yang rusak, maka seluruh pengiriman chip akan diterima tanpa melakukan inspeksi lebih lanjut. Jika ditemukan empat atau lebih chip yang rusak, maka semua chip yang dibeli harus diperiksa lebih lanjut. Hitung nilai probabilitas chip diterima tanpa melakukan inspeksi lebih lanjut jika diketahui probabilitas chip yang yang rusak sebesar 0,001! (Petunjuk: gunakan distribusi poisson)"
   ]
  },
  {
   "cell_type": "markdown",
   "id": "3e311d77",
   "metadata": {},
   "source": [
    "Pada soal ini dilakukan inspeksi pada 800 sampel chip sehingga n = 800. Sedangkan probabilitas chip yang rusak adalah 0,1 % atau bisa didefinisikan p = 0,001. Sehingga nilai lamda/ mu adalah 800 * 0,001 = 0,8. Sehingga nilai distribusi poisson dapat dihitung dengan menggunakan fungsi berikut."
   ]
  },
  {
   "cell_type": "code",
   "execution_count": 6,
   "id": "5b482cdc",
   "metadata": {},
   "outputs": [
    {
     "name": "stdout",
     "output_type": "stream",
     "text": [
      "x\tp(x)\n",
      "0\t0.44932896411722156\n",
      "1\t0.35946317129377725\n",
      "2\t0.14378526851751092\n",
      "3\t0.03834273827133624\n",
      "4\t0.007668547654267254\n",
      "5\t0.0012269676246827604\n",
      "6\t0.00016359568329103453\n",
      "7\t1.8696649518975356e-05\n",
      "8\t1.869664951897537e-06\n",
      "9\t1.6619244016867e-07\n",
      "10\t1.3295395213493597e-08\n",
      "11\t9.669378337086244e-10\n",
      "12\t6.446252224724183e-11\n",
      "13\t3.966924445984118e-12\n",
      "14\t2.2668139691337751e-13\n",
      "15\t1.2089674502046763e-14\n",
      "16\t6.044837251023428e-16\n",
      "17\t2.844629294599255e-17\n",
      "18\t1.2642796864885625e-18\n",
      "19\t5.3232828904781545e-20\n",
      "20\t2.1293131561912652e-21\n",
      "21\t8.111669166442868e-23\n",
      "22\t2.949697878706489e-24\n",
      "23\t1.0259818708544321e-25\n",
      "24\t3.41993956951479e-27\n",
      "25\t1.0943806622447353e-28\n",
      "26\t3.367325114599161e-30\n",
      "27\t9.977259598812406e-32\n",
      "28\t2.8506455996606537e-33\n",
      "29\t7.86384993009847e-35\n",
      "30\t2.097026648026256e-36\n",
      "31\t5.411681672325812e-38\n",
      "32\t1.352920418081461e-39\n",
      "33\t3.2798070741368097e-41\n",
      "34\t7.717193115616214e-43\n",
      "35\t1.7639298549979975e-44\n",
      "36\t3.919844122217724e-46\n",
      "37\t8.475338642633156e-48\n",
      "38\t1.7842818195016744e-49\n",
      "39\t3.6600652707727047e-51\n",
      "40\t7.320130541545355e-53\n",
      "41\t1.428318154447864e-54\n",
      "42\t2.7206060084721396e-56\n",
      "43\t5.0615925739015544e-58\n",
      "44\t9.20289558891207e-60\n",
      "45\t1.636070326917613e-61\n",
      "46\t2.8453396989873327e-63\n",
      "47\t4.843131402531407e-65\n",
      "48\t8.071885670885989e-67\n",
      "49\t1.3178588850426065e-68\n",
      "50\t2.108574216068127e-70\n",
      "51\t3.307567397753879e-72\n",
      "52\t5.0885652273136125e-74\n",
      "53\t7.680853173303609e-76\n",
      "54\t1.1379041738227478e-77\n",
      "55\t1.655133343742184e-79\n",
      "56\t2.3644762053459786e-81\n",
      "57\t3.3185630952225495e-83\n",
      "58\t4.5773284072033795e-85\n",
      "59\t6.206546992818372e-87\n",
      "60\t8.275395990423999e-89\n",
      "61\t1.0852978348097337e-90\n",
      "62\t1.4003843029803361e-92\n",
      "63\t1.7782657815623508e-94\n",
      "64\t2.222832226952884e-96\n",
      "65\t2.735793510095951e-98\n",
      "66\t3.31611334557073e-100\n",
      "67\t3.95953832306941e-102\n",
      "68\t4.6582803800817e-104\n",
      "69\t5.400904788500424e-106\n",
      "70\t6.172462615429504e-108\n",
      "71\t6.95488745400484e-110\n",
      "72\t7.727652726671935e-112\n",
      "73\t8.468660522380377e-114\n",
      "74\t9.155308672844022e-116\n",
      "75\t9.765662584366795e-118\n",
      "76\t1.0279644825648994e-119\n",
      "77\t1.068015046820687e-121\n",
      "78\t1.0954000480212115e-123\n",
      "79\t1.1092658714139521e-125\n",
      "80\t1.1092658714138472e-127\n",
      "81\t1.0955712310259865e-129\n",
      "82\t1.0688499814887576e-131\n",
      "83\t1.030216849627794e-133\n",
      "84\t9.811589044074553e-136\n",
      "85\t9.23443674736398e-138\n",
      "86\t8.590173718478301e-140\n",
      "87\t7.899010315841913e-142\n",
      "88\t7.180918468947503e-144\n",
      "89\t6.454758174334876e-146\n",
      "90\t5.737562821630843e-148\n",
      "91\t5.044011271763161e-150\n",
      "92\t4.386096758054941e-152\n",
      "93\t3.772986458541888e-154\n",
      "94\t3.211052305142152e-156\n",
      "95\t2.7040440464356216e-158\n",
      "96\t2.2533700386961135e-160\n",
      "97\t1.8584495164504178e-162\n",
      "98\t1.5171016460820528e-164\n",
      "99\t1.2259407241067052e-166\n",
      "100\t9.807525792853419e-169\n",
      "101\t7.768337261666529e-171\n",
      "102\t6.092813538561716e-173\n",
      "103\t4.732282360048191e-175\n",
      "104\t3.640217200037029e-177\n",
      "105\t2.7734988190758075e-179\n",
      "106\t2.0932066559063375e-181\n",
      "107\t1.5650143221729355e-183\n",
      "108\t1.159269868276204e-185\n",
      "109\t8.50840270294431e-188\n",
      "110\t6.187929238505313e-190\n",
      "111\t4.459768820544315e-192\n",
      "112\t3.185549157531378e-194\n",
      "113\t2.2552560407302687e-196\n",
      "114\t1.582635818056385e-198\n",
      "115\t1.1009640473435935e-200\n",
      "116\t7.592855498921094e-203\n",
      "117\t5.191696067638349e-205\n",
      "118\t3.519793944161617e-207\n",
      "119\t2.3662480296884226e-209\n",
      "120\t1.5774986864588956e-211\n",
      "121\t1.0429743381547277e-213\n",
      "122\t6.839175987900411e-216\n",
      "123\t4.448244544975097e-218\n",
      "124\t2.8698351903064983e-220\n",
      "125\t1.8366945217963542e-222\n",
      "126\t1.1661552519342367e-224\n",
      "127\t7.345859854704814e-227\n",
      "128\t4.591162409189996e-229\n",
      "129\t2.847232501823325e-231\n",
      "130\t1.7521430780451296e-233\n",
      "131\t1.070011040027609e-235\n",
      "132\t6.484915394104817e-238\n",
      "133\t3.9007009889356616e-240\n",
      "134\t2.3287767098121954e-242\n",
      "135\t1.3800158280369812e-244\n",
      "136\t8.117740164923936e-247\n",
      "137\t4.740286227692194e-249\n",
      "138\t2.7479920160539378e-251\n",
      "139\t1.581578138736039e-253\n",
      "140\t9.037589364204264e-256\n",
      "141\t5.127710277563208e-258\n",
      "142\t2.8888508605992162e-260\n",
      "143\t1.616140341594012e-262\n",
      "144\t8.978557453299669e-265\n",
      "145\t4.95368687078566e-267\n",
      "146\t2.7143489702937948e-269\n",
      "147\t1.4771967185271504e-271\n",
      "148\t7.984847127173187e-274\n",
      "149\t4.2871662427780294e-276\n",
      "150\t2.2864886628146472e-278\n",
      "151\t1.2113847220209062e-280\n",
      "152\t6.375709063268839e-283\n",
      "153\t3.3337040853690056e-285\n",
      "154\t1.731794330061936e-287\n",
      "155\t8.938293316449296e-290\n",
      "156\t4.583740162281919e-292\n",
      "157\t2.3356637769587682e-294\n",
      "158\t1.1826145706120365e-296\n",
      "159\t5.950261990500691e-299\n",
      "160\t2.975130995250566e-301\n",
      "161\t1.4783259603729086e-303\n",
      "162\t7.300375112952801e-306\n",
      "163\t3.5830061904061174e-308\n",
      "164\t1.74780789775907e-310\n",
      "165\t8.47422011036e-313\n",
      "166\t4.0839615e-315\n",
      "167\t1.956389e-317\n",
      "168\t9.316e-320\n",
      "169\t4.4e-322\n",
      "170\t0.0\n",
      "171\t0.0\n",
      "172\t0.0\n",
      "173\t0.0\n",
      "174\t0.0\n",
      "175\t0.0\n",
      "176\t0.0\n",
      "177\t0.0\n",
      "178\t0.0\n",
      "179\t0.0\n",
      "180\t0.0\n",
      "181\t0.0\n",
      "182\t0.0\n",
      "183\t0.0\n",
      "184\t0.0\n",
      "185\t0.0\n",
      "186\t0.0\n",
      "187\t0.0\n",
      "188\t0.0\n",
      "189\t0.0\n",
      "190\t0.0\n",
      "191\t0.0\n",
      "192\t0.0\n",
      "193\t0.0\n",
      "194\t0.0\n",
      "195\t0.0\n",
      "196\t0.0\n",
      "197\t0.0\n",
      "198\t0.0\n",
      "199\t0.0\n",
      "200\t0.0\n",
      "201\t0.0\n",
      "202\t0.0\n",
      "203\t0.0\n",
      "204\t0.0\n",
      "205\t0.0\n",
      "206\t0.0\n",
      "207\t0.0\n",
      "208\t0.0\n",
      "209\t0.0\n",
      "210\t0.0\n",
      "211\t0.0\n",
      "212\t0.0\n",
      "213\t0.0\n",
      "214\t0.0\n",
      "215\t0.0\n",
      "216\t0.0\n",
      "217\t0.0\n",
      "218\t0.0\n",
      "219\t0.0\n",
      "220\t0.0\n",
      "221\t0.0\n",
      "222\t0.0\n",
      "223\t0.0\n",
      "224\t0.0\n",
      "225\t0.0\n",
      "226\t0.0\n",
      "227\t0.0\n",
      "228\t0.0\n",
      "229\t0.0\n",
      "230\t0.0\n",
      "231\t0.0\n",
      "232\t0.0\n",
      "233\t0.0\n",
      "234\t0.0\n",
      "235\t0.0\n",
      "236\t0.0\n",
      "237\t0.0\n",
      "238\t0.0\n",
      "239\t0.0\n",
      "240\t0.0\n",
      "241\t0.0\n",
      "242\t0.0\n",
      "243\t0.0\n",
      "244\t0.0\n",
      "245\t0.0\n",
      "246\t0.0\n",
      "247\t0.0\n",
      "248\t0.0\n",
      "249\t0.0\n",
      "250\t0.0\n",
      "251\t0.0\n",
      "252\t0.0\n",
      "253\t0.0\n",
      "254\t0.0\n",
      "255\t0.0\n",
      "256\t0.0\n",
      "257\t0.0\n",
      "258\t0.0\n",
      "259\t0.0\n",
      "260\t0.0\n",
      "261\t0.0\n",
      "262\t0.0\n",
      "263\t0.0\n",
      "264\t0.0\n",
      "265\t0.0\n",
      "266\t0.0\n",
      "267\t0.0\n",
      "268\t0.0\n",
      "269\t0.0\n",
      "270\t0.0\n",
      "271\t0.0\n",
      "272\t0.0\n",
      "273\t0.0\n",
      "274\t0.0\n",
      "275\t0.0\n",
      "276\t0.0\n",
      "277\t0.0\n",
      "278\t0.0\n",
      "279\t0.0\n",
      "280\t0.0\n",
      "281\t0.0\n",
      "282\t0.0\n",
      "283\t0.0\n",
      "284\t0.0\n",
      "285\t0.0\n",
      "286\t0.0\n",
      "287\t0.0\n",
      "288\t0.0\n",
      "289\t0.0\n",
      "290\t0.0\n",
      "291\t0.0\n",
      "292\t0.0\n",
      "293\t0.0\n",
      "294\t0.0\n",
      "295\t0.0\n",
      "296\t0.0\n",
      "297\t0.0\n",
      "298\t0.0\n",
      "299\t0.0\n",
      "300\t0.0\n",
      "301\t0.0\n",
      "302\t0.0\n",
      "303\t0.0\n",
      "304\t0.0\n",
      "305\t0.0\n",
      "306\t0.0\n",
      "307\t0.0\n",
      "308\t0.0\n",
      "309\t0.0\n",
      "310\t0.0\n",
      "311\t0.0\n",
      "312\t0.0\n",
      "313\t0.0\n",
      "314\t0.0\n",
      "315\t0.0\n",
      "316\t0.0\n",
      "317\t0.0\n",
      "318\t0.0\n",
      "319\t0.0\n",
      "320\t0.0\n",
      "321\t0.0\n",
      "322\t0.0\n",
      "323\t0.0\n",
      "324\t0.0\n",
      "325\t0.0\n",
      "326\t0.0\n",
      "327\t0.0\n",
      "328\t0.0\n",
      "329\t0.0\n",
      "330\t0.0\n",
      "331\t0.0\n",
      "332\t0.0\n",
      "333\t0.0\n",
      "334\t0.0\n",
      "335\t0.0\n",
      "336\t0.0\n",
      "337\t0.0\n",
      "338\t0.0\n",
      "339\t0.0\n",
      "340\t0.0\n",
      "341\t0.0\n",
      "342\t0.0\n",
      "343\t0.0\n",
      "344\t0.0\n",
      "345\t0.0\n",
      "346\t0.0\n",
      "347\t0.0\n",
      "348\t0.0\n",
      "349\t0.0\n",
      "350\t0.0\n",
      "351\t0.0\n",
      "352\t0.0\n",
      "353\t0.0\n",
      "354\t0.0\n",
      "355\t0.0\n",
      "356\t0.0\n",
      "357\t0.0\n",
      "358\t0.0\n",
      "359\t0.0\n",
      "360\t0.0\n",
      "361\t0.0\n",
      "362\t0.0\n",
      "363\t0.0\n",
      "364\t0.0\n",
      "365\t0.0\n",
      "366\t0.0\n",
      "367\t0.0\n",
      "368\t0.0\n",
      "369\t0.0\n",
      "370\t0.0\n",
      "371\t0.0\n",
      "372\t0.0\n",
      "373\t0.0\n",
      "374\t0.0\n",
      "375\t0.0\n",
      "376\t0.0\n",
      "377\t0.0\n",
      "378\t0.0\n",
      "379\t0.0\n",
      "380\t0.0\n",
      "381\t0.0\n",
      "382\t0.0\n",
      "383\t0.0\n",
      "384\t0.0\n",
      "385\t0.0\n",
      "386\t0.0\n",
      "387\t0.0\n",
      "388\t0.0\n",
      "389\t0.0\n",
      "390\t0.0\n",
      "391\t0.0\n",
      "392\t0.0\n",
      "393\t0.0\n",
      "394\t0.0\n",
      "395\t0.0\n",
      "396\t0.0\n",
      "397\t0.0\n",
      "398\t0.0\n",
      "399\t0.0\n",
      "400\t0.0\n",
      "401\t0.0\n",
      "402\t0.0\n",
      "403\t0.0\n",
      "404\t0.0\n",
      "405\t0.0\n",
      "406\t0.0\n",
      "407\t0.0\n",
      "408\t0.0\n",
      "409\t0.0\n",
      "410\t0.0\n",
      "411\t0.0\n",
      "412\t0.0\n",
      "413\t0.0\n",
      "414\t0.0\n",
      "415\t0.0\n",
      "416\t0.0\n",
      "417\t0.0\n",
      "418\t0.0\n",
      "419\t0.0\n",
      "420\t0.0\n",
      "421\t0.0\n",
      "422\t0.0\n",
      "423\t0.0\n",
      "424\t0.0\n",
      "425\t0.0\n",
      "426\t0.0\n",
      "427\t0.0\n",
      "428\t0.0\n",
      "429\t0.0\n",
      "430\t0.0\n",
      "431\t0.0\n",
      "432\t0.0\n",
      "433\t0.0\n",
      "434\t0.0\n",
      "435\t0.0\n",
      "436\t0.0\n",
      "437\t0.0\n",
      "438\t0.0\n",
      "439\t0.0\n",
      "440\t0.0\n",
      "441\t0.0\n",
      "442\t0.0\n",
      "443\t0.0\n",
      "444\t0.0\n",
      "445\t0.0\n",
      "446\t0.0\n",
      "447\t0.0\n",
      "448\t0.0\n",
      "449\t0.0\n",
      "450\t0.0\n",
      "451\t0.0\n",
      "452\t0.0\n",
      "453\t0.0\n",
      "454\t0.0\n",
      "455\t0.0\n",
      "456\t0.0\n",
      "457\t0.0\n",
      "458\t0.0\n",
      "459\t0.0\n",
      "460\t0.0\n",
      "461\t0.0\n",
      "462\t0.0\n",
      "463\t0.0\n",
      "464\t0.0\n",
      "465\t0.0\n",
      "466\t0.0\n",
      "467\t0.0\n",
      "468\t0.0\n",
      "469\t0.0\n",
      "470\t0.0\n",
      "471\t0.0\n",
      "472\t0.0\n",
      "473\t0.0\n",
      "474\t0.0\n",
      "475\t0.0\n",
      "476\t0.0\n",
      "477\t0.0\n",
      "478\t0.0\n",
      "479\t0.0\n",
      "480\t0.0\n",
      "481\t0.0\n",
      "482\t0.0\n",
      "483\t0.0\n",
      "484\t0.0\n",
      "485\t0.0\n",
      "486\t0.0\n",
      "487\t0.0\n",
      "488\t0.0\n",
      "489\t0.0\n",
      "490\t0.0\n",
      "491\t0.0\n",
      "492\t0.0\n",
      "493\t0.0\n",
      "494\t0.0\n",
      "495\t0.0\n",
      "496\t0.0\n",
      "497\t0.0\n",
      "498\t0.0\n",
      "499\t0.0\n",
      "500\t0.0\n",
      "501\t0.0\n",
      "502\t0.0\n",
      "503\t0.0\n",
      "504\t0.0\n",
      "505\t0.0\n",
      "506\t0.0\n",
      "507\t0.0\n",
      "508\t0.0\n",
      "509\t0.0\n",
      "510\t0.0\n",
      "511\t0.0\n",
      "512\t0.0\n",
      "513\t0.0\n",
      "514\t0.0\n",
      "515\t0.0\n",
      "516\t0.0\n",
      "517\t0.0\n",
      "518\t0.0\n",
      "519\t0.0\n",
      "520\t0.0\n",
      "521\t0.0\n",
      "522\t0.0\n",
      "523\t0.0\n",
      "524\t0.0\n",
      "525\t0.0\n",
      "526\t0.0\n",
      "527\t0.0\n",
      "528\t0.0\n",
      "529\t0.0\n",
      "530\t0.0\n",
      "531\t0.0\n",
      "532\t0.0\n",
      "533\t0.0\n",
      "534\t0.0\n",
      "535\t0.0\n",
      "536\t0.0\n",
      "537\t0.0\n",
      "538\t0.0\n",
      "539\t0.0\n",
      "540\t0.0\n",
      "541\t0.0\n",
      "542\t0.0\n",
      "543\t0.0\n",
      "544\t0.0\n",
      "545\t0.0\n",
      "546\t0.0\n",
      "547\t0.0\n",
      "548\t0.0\n",
      "549\t0.0\n",
      "550\t0.0\n",
      "551\t0.0\n",
      "552\t0.0\n",
      "553\t0.0\n",
      "554\t0.0\n",
      "555\t0.0\n",
      "556\t0.0\n",
      "557\t0.0\n",
      "558\t0.0\n",
      "559\t0.0\n",
      "560\t0.0\n",
      "561\t0.0\n",
      "562\t0.0\n",
      "563\t0.0\n",
      "564\t0.0\n",
      "565\t0.0\n",
      "566\t0.0\n",
      "567\t0.0\n",
      "568\t0.0\n",
      "569\t0.0\n",
      "570\t0.0\n",
      "571\t0.0\n",
      "572\t0.0\n",
      "573\t0.0\n",
      "574\t0.0\n",
      "575\t0.0\n",
      "576\t0.0\n",
      "577\t0.0\n",
      "578\t0.0\n",
      "579\t0.0\n",
      "580\t0.0\n",
      "581\t0.0\n",
      "582\t0.0\n",
      "583\t0.0\n",
      "584\t0.0\n",
      "585\t0.0\n",
      "586\t0.0\n",
      "587\t0.0\n",
      "588\t0.0\n",
      "589\t0.0\n",
      "590\t0.0\n",
      "591\t0.0\n",
      "592\t0.0\n",
      "593\t0.0\n",
      "594\t0.0\n",
      "595\t0.0\n",
      "596\t0.0\n",
      "597\t0.0\n",
      "598\t0.0\n",
      "599\t0.0\n",
      "600\t0.0\n",
      "601\t0.0\n",
      "602\t0.0\n",
      "603\t0.0\n",
      "604\t0.0\n",
      "605\t0.0\n",
      "606\t0.0\n",
      "607\t0.0\n",
      "608\t0.0\n",
      "609\t0.0\n",
      "610\t0.0\n",
      "611\t0.0\n",
      "612\t0.0\n",
      "613\t0.0\n",
      "614\t0.0\n",
      "615\t0.0\n",
      "616\t0.0\n",
      "617\t0.0\n",
      "618\t0.0\n",
      "619\t0.0\n",
      "620\t0.0\n",
      "621\t0.0\n",
      "622\t0.0\n",
      "623\t0.0\n",
      "624\t0.0\n",
      "625\t0.0\n",
      "626\t0.0\n",
      "627\t0.0\n",
      "628\t0.0\n",
      "629\t0.0\n",
      "630\t0.0\n",
      "631\t0.0\n",
      "632\t0.0\n",
      "633\t0.0\n",
      "634\t0.0\n",
      "635\t0.0\n",
      "636\t0.0\n",
      "637\t0.0\n",
      "638\t0.0\n",
      "639\t0.0\n",
      "640\t0.0\n",
      "641\t0.0\n",
      "642\t0.0\n",
      "643\t0.0\n",
      "644\t0.0\n",
      "645\t0.0\n",
      "646\t0.0\n",
      "647\t0.0\n",
      "648\t0.0\n",
      "649\t0.0\n",
      "650\t0.0\n",
      "651\t0.0\n",
      "652\t0.0\n",
      "653\t0.0\n",
      "654\t0.0\n",
      "655\t0.0\n",
      "656\t0.0\n",
      "657\t0.0\n",
      "658\t0.0\n",
      "659\t0.0\n",
      "660\t0.0\n",
      "661\t0.0\n",
      "662\t0.0\n",
      "663\t0.0\n",
      "664\t0.0\n",
      "665\t0.0\n",
      "666\t0.0\n",
      "667\t0.0\n",
      "668\t0.0\n",
      "669\t0.0\n",
      "670\t0.0\n",
      "671\t0.0\n",
      "672\t0.0\n",
      "673\t0.0\n",
      "674\t0.0\n",
      "675\t0.0\n",
      "676\t0.0\n",
      "677\t0.0\n",
      "678\t0.0\n",
      "679\t0.0\n",
      "680\t0.0\n",
      "681\t0.0\n",
      "682\t0.0\n",
      "683\t0.0\n",
      "684\t0.0\n",
      "685\t0.0\n",
      "686\t0.0\n",
      "687\t0.0\n",
      "688\t0.0\n",
      "689\t0.0\n",
      "690\t0.0\n",
      "691\t0.0\n",
      "692\t0.0\n",
      "693\t0.0\n",
      "694\t0.0\n",
      "695\t0.0\n",
      "696\t0.0\n",
      "697\t0.0\n",
      "698\t0.0\n",
      "699\t0.0\n",
      "700\t0.0\n",
      "701\t0.0\n",
      "702\t0.0\n",
      "703\t0.0\n",
      "704\t0.0\n",
      "705\t0.0\n",
      "706\t0.0\n",
      "707\t0.0\n",
      "708\t0.0\n",
      "709\t0.0\n",
      "710\t0.0\n",
      "711\t0.0\n",
      "712\t0.0\n",
      "713\t0.0\n",
      "714\t0.0\n",
      "715\t0.0\n",
      "716\t0.0\n",
      "717\t0.0\n",
      "718\t0.0\n",
      "719\t0.0\n",
      "720\t0.0\n",
      "721\t0.0\n",
      "722\t0.0\n",
      "723\t0.0\n",
      "724\t0.0\n",
      "725\t0.0\n",
      "726\t0.0\n",
      "727\t0.0\n",
      "728\t0.0\n",
      "729\t0.0\n",
      "730\t0.0\n",
      "731\t0.0\n",
      "732\t0.0\n",
      "733\t0.0\n",
      "734\t0.0\n",
      "735\t0.0\n",
      "736\t0.0\n",
      "737\t0.0\n",
      "738\t0.0\n",
      "739\t0.0\n",
      "740\t0.0\n",
      "741\t0.0\n",
      "742\t0.0\n",
      "743\t0.0\n",
      "744\t0.0\n",
      "745\t0.0\n",
      "746\t0.0\n",
      "747\t0.0\n",
      "748\t0.0\n",
      "749\t0.0\n",
      "750\t0.0\n",
      "751\t0.0\n",
      "752\t0.0\n",
      "753\t0.0\n",
      "754\t0.0\n",
      "755\t0.0\n",
      "756\t0.0\n",
      "757\t0.0\n",
      "758\t0.0\n",
      "759\t0.0\n",
      "760\t0.0\n",
      "761\t0.0\n",
      "762\t0.0\n",
      "763\t0.0\n",
      "764\t0.0\n",
      "765\t0.0\n",
      "766\t0.0\n",
      "767\t0.0\n",
      "768\t0.0\n",
      "769\t0.0\n",
      "770\t0.0\n",
      "771\t0.0\n",
      "772\t0.0\n",
      "773\t0.0\n",
      "774\t0.0\n",
      "775\t0.0\n",
      "776\t0.0\n",
      "777\t0.0\n",
      "778\t0.0\n",
      "779\t0.0\n",
      "780\t0.0\n",
      "781\t0.0\n",
      "782\t0.0\n",
      "783\t0.0\n",
      "784\t0.0\n",
      "785\t0.0\n",
      "786\t0.0\n",
      "787\t0.0\n",
      "788\t0.0\n",
      "789\t0.0\n",
      "790\t0.0\n",
      "791\t0.0\n",
      "792\t0.0\n",
      "793\t0.0\n",
      "794\t0.0\n",
      "795\t0.0\n",
      "796\t0.0\n",
      "797\t0.0\n",
      "798\t0.0\n",
      "799\t0.0\n"
     ]
    }
   ],
   "source": [
    "from scipy.stats import poisson\n",
    "def distribusi_poisson(n,mu):\n",
    "    x_values = list(range(n + 1)) #simpan list x_values\n",
    "    x = poisson.rvs(mu=mu,size=n) #generate random variates poisson\n",
    "    dist = [poisson(mu=mu).pmf(x)for x in x_values ] #append nilai distribusi poisson ke list\n",
    "    print(\"x\\tp(x)\")\n",
    "    for i in range(n):\n",
    "        print(str(x_values[i]) + \"\\t\" + str(dist[i]))\n",
    "\n",
    "# setting nilai n dan mu/lamda\n",
    "n=800\n",
    "p=0.001\n",
    "mu=n*p\n",
    "distribusi_poisson(n,mu)"
   ]
  },
  {
   "cell_type": "markdown",
   "id": "e0a3422d",
   "metadata": {},
   "source": [
    "Karena disini yang ditanyakan adalah probabilitas chip diterima tanpa melakukan inspeksi maka kita harus menganalisis kondisi dilakukannya inspeksi. Berdasarkan soal apabila ditemukan kurang dari sama dengan tiga chip yang rusak, maka seluruh pengiriman chip akan diterima tanpa melakukan inspeksi lebih lanjut. Sehingga untuk menhitung probabilitas chip diterima tanpa insspeksi adalah dengan menambahkan distribusi untuk r = 0, r = 1, r = 2, dan r = 3."
   ]
  },
  {
   "cell_type": "code",
   "execution_count": 7,
   "id": "a4ac4785",
   "metadata": {},
   "outputs": [
    {
     "name": "stdout",
     "output_type": "stream",
     "text": [
      "Probabilitas chip diterima tanpa melakukan inspeksi lebih lanjut adalah 53.84360495474279 %\n"
     ]
    }
   ],
   "source": [
    "print (\"Probabilitas chip diterima tanpa melakukan inspeksi lebih lanjut adalah\", (dist[0]+dist[1]+dist[2]+dist[3])*100,\"%\")"
   ]
  },
  {
   "cell_type": "markdown",
   "id": "746d136f",
   "metadata": {},
   "source": [
    "6.\tDi Jember, 30% warga memiliki golongan darah O+, 33% memiliki A+, 12% memiliki B+, 6% memiliki AB+, 7% memiliki O-, 8% memiliki A-, 3% memiliki B-, dan 1 % memiliki AB-. Jika 15 warga Jember dipilih secara acak, berapa probabilitas tiga orang memiliki golongan darah O+, dua memiliki A+, tiga memiliki B+, dua memiliki AB+, satu memiliki O-, dua memiliki A-, satu memiliki B-, dan satu memiliki AB-? (Petunjuk: gunakan distribusi multinomial)"
   ]
  },
  {
   "cell_type": "markdown",
   "id": "8efd73ee",
   "metadata": {},
   "source": [
    "Pada soal 6 terdapat 8 variabel yang diketahui sehingga dapat diklasifikasikan menjadi x1, x2, x3, x4, x5, x6, x7, dan x8 dimana memiliki probabilitas p1, p2, p3, p4, p5, p6, p7, dan p8. Untuk sampel yang digunakan adalah 15 sehingga n = 15. Dengan menggunakan distribusi hipergeometrik kita dapat menghitung probabilitas tiga orang memiliki golongan darah O+, dua memiliki A+, tiga memiliki B+, dua memiliki AB+, satu memiliki O-, dua memiliki A-, satu memiliki B-, dan satu memiliki AB- sebagai berikut"
   ]
  },
  {
   "cell_type": "code",
   "execution_count": 8,
   "id": "361ea673",
   "metadata": {},
   "outputs": [
    {
     "name": "stdout",
     "output_type": "stream",
     "text": [
      "Jadi probabilitasnya adalah 0.0011162058001298527 %\n"
     ]
    }
   ],
   "source": [
    "import numpy as np\n",
    "from scipy.stats import multinomial\n",
    "# setting nilai n, p, dan x\n",
    "n = 15\n",
    "p1 = 0.3\n",
    "p2 = 0.33\n",
    "p3 = 0.12\n",
    "p4 = 0.06\n",
    "p5 = 0.07\n",
    "p6 = 0.08\n",
    "p7 = 0.03\n",
    "p8 = 0.01\n",
    "x1 = 3\n",
    "x2 = 2\n",
    "x3 = 3\n",
    "x4 = 2\n",
    "x5 = 1\n",
    "x6 = 2\n",
    "x7 = 1\n",
    "x8 = 1\n",
    "print(\"Jadi probabilitasnya adalah\",\n",
    "      multinomial.pmf([x1, x2, x3, x4, x5, x6, x7, x8], n=n, p=[p1, p2, p3, p4, p5, p6, p7, p8])*100,\"%\")"
   ]
  },
  {
   "cell_type": "markdown",
   "id": "2e360283",
   "metadata": {},
   "source": [
    "7.\tBEM Fakultas Ilmu Komputer UNEJ akan mengadakan sebuah seminar teknologi informasi nasional. Komite acara tersebut harus dipilih secara acak dari anggota BEM yang terdiri dari enam laki-laki dan lima perempuan. Jika komite acara yang akan dibentuk terdiri dari empat anggota yang dipilih secara acak dari anggota BEM, (a) berapa probabilitas dua di antaranya adalah laki-laki? (b) Berapa banyak pria yang diharapkan untuk menjadi anggota komite? (Petunjuk: gunakan distribusi hipergeometrik)"
   ]
  },
  {
   "cell_type": "markdown",
   "id": "dc39a3ae",
   "metadata": {},
   "source": [
    "Pada soal no 7 diketahui anggota BEM terdiri dari 11 anggota (6 laki-laki dan 5 perempuan) sehingga populasi atau N = 11. Apabila yang terpilih laki-laki kita definisikan sebagai SUKSES maka x adalah jumlah laki-lakinya sehingga x = 6. Pada soal tersebut panitia seminar teknologi tersebut terdiri dari 4 orang sehingga sampel atau n = 4. Sehingga probabilitas dua anggota BEM yang terpilih dapat dihitung sebagai berikut :"
   ]
  },
  {
   "cell_type": "code",
   "execution_count": 9,
   "id": "00c0e05f",
   "metadata": {},
   "outputs": [
    {
     "name": "stdout",
     "output_type": "stream",
     "text": [
      "a. Probabilitas dua di antaranya adalah laki-laki adalah  5/11\n"
     ]
    }
   ],
   "source": [
    "from sympy.stats import Hypergeometric, density\n",
    "def distribusi_hipergeometrik(N,x,n,i):\n",
    "    X = Hypergeometric('pria', N, x, n) #generate distribusi hipergeometrik\n",
    "    dist = density(X).dict #simpan distribusi ke dalam dictionary\n",
    "    return dist[i]\n",
    "# setting nilai N, x, n\n",
    "N=11\n",
    "x=6\n",
    "n=4\n",
    "print (\"a. Probabilitas dua di antaranya adalah laki-laki adalah \", distribusi_hipergeometrik(N,x,n,2))"
   ]
  },
  {
   "cell_type": "markdown",
   "id": "1ed87930",
   "metadata": {},
   "source": [
    "Untuk soal b karena yang ditanyakan adalah banyak pria yang diharapkan untuk menjadi anggota komite maka kita memerlukan fungsi nilai harapan. Parameter A merupakan nilai dari kemungkinan seorang pria terpilih untuk menjadi komite sehingga nilainya adalah 0, 1, 2, 3, dan 4. Dengan menggunakan distribusi hipergeometrik kita memperoleh nilai probabilitas dari masing-masing kemungkinan a. Nilai sampel yang digunakan disini adalah len (a). Setelah seluruh parameter terpenuhi maka kita dapat menghitung nilai harapan dengan memanggil fungsi expect_value seperti pada soal no 3 sehingga perhitungannya sebagai berikut :"
   ]
  },
  {
   "cell_type": "code",
   "execution_count": 10,
   "id": "4c5157a8",
   "metadata": {},
   "outputs": [
    {
     "name": "stdout",
     "output_type": "stream",
     "text": [
      "b. Pria yang diharapkan untuk menjadi anggota komite sebanyak 2 orang\n"
     ]
    }
   ],
   "source": [
    "a = [ 0, 1, 2, 3, 4 ]\n",
    "prb = []\n",
    "for i in a:\n",
    "    prob = distribusi_hipergeometrik(N,x,n,i)\n",
    "    prb.append(prob)\n",
    "n = len(a);\n",
    "expect = expect_value(a, n, prb)\n",
    "print (\"b. Pria yang diharapkan untuk menjadi anggota komite sebanyak\", round(expect),\"orang\")"
   ]
  },
  {
   "cell_type": "markdown",
   "id": "6b40b1e6",
   "metadata": {},
   "source": [
    "Pada jawaban di atas menggunakan fungsi round atau pembulatan untuk membulatkan nilai hasilnya karena tidak mungkin banyaknya orang adalah desimal."
   ]
  },
  {
   "cell_type": "markdown",
   "id": "221312d1",
   "metadata": {},
   "source": [
    "8.\tSebuah perusahaan baterai mengembangkan baterai isi ulang baru. Rata-rata, baterai bertahan 60 menit dengan sekali pengisian dan standar deviasinya adalah 4 menit. Departemen manufaktur perusahaan baterai tersebut menjalankan uji kendali mutu. Departemen manufaktur memilih tujuh baterai secara acak dimana standar deviasinya adalah 6 menit. (a) Berapakah nilai distribusi kai-kuadrat (chi-square)? (b) Misalkan dilakukan pengulangan pengujian dengan sampel acak baru yang terdiri dari tujuh baterai, berapakah probabilitasnya apabila standar deviasi dalam tes baru lebih dari 6 menit?"
   ]
  },
  {
   "attachments": {
    "image.png": {
     "image/png": "[encoded data removed]"
    }
   },
   "cell_type": "markdown",
   "id": "a9ea2fb9",
   "metadata": {},
   "source": [
    "a. Pada soal no 8 diketahui bahwa jumlah sampel yang digunakan untuk melakukan pengujian baterai adalah tujuh sehingga dapat ditulis n = 7. Sedangkan nilai standar deviasi ketahanan baterai adalah 4 sehingga σ^2 = 4. Standar deviasi ketahanan baterai pada suatu sampel pengujian adalah enam sehingga nilai s^2 = 6, sehingga nilai distribusi kai-kuadrat (chi-square) dapat diperoleh sebagai berikut:![image.png](attachment:image.png)"
   ]
  },
  {
   "cell_type": "markdown",
   "id": "f8e4ac1c",
   "metadata": {},
   "source": [
    "di mana Χ^2 adalah nilai distribusi kai-kuadrat, n adalah ukuran sampel, s adalah simpangan baku sampel, dan σ adalah simpangan baku populasi. Sehingga nilai distribusi kai-kuadrat (chi-square) adalah 13.5."
   ]
  },
  {
   "cell_type": "markdown",
   "id": "3da4b7f1",
   "metadata": {},
   "source": [
    "b. Pada soal 8b dilakukan pengujian ulang baterai dimana jumlah sampel nya sama dengan pengujian sebelumnya atau bisa ditulis n = 7. Derajat kebebasan (df) dapat dihitung dengan n - 1 = 7 - 1 = 6, sehingga nilai df adalah 6. Dan seperti pada soal a diketahui nilai distribusi chi squarenya atau x^2 adalah 13,5. Sehingga nilai probabilitas untuk standar deviasi dalam tes baru lebih dari 6 menit dapat dihitung sebagai berikut"
   ]
  },
  {
   "cell_type": "code",
   "execution_count": 11,
   "id": "9b15c719",
   "metadata": {},
   "outputs": [
    {
     "name": "stdout",
     "output_type": "stream",
     "text": [
      "Sehingga nilai probabilitas untuk standar deviasi dalam tes baru lebih dari 6 menit adalah 3.5748418422280603 %\n"
     ]
    }
   ],
   "source": [
    "from scipy.stats import chi2\n",
    "probability = chi2.cdf(x=13.5, df=6)\n",
    "print(\"Sehingga nilai probabilitas untuk standar deviasi dalam tes baru lebih dari 6 menit adalah\",(1-probability)*100,\"%\")"
   ]
  },
  {
   "cell_type": "markdown",
   "id": "453d58e4",
   "metadata": {},
   "source": [
    "Karena yang dicari adalah standar deviasi dalam tes baru lebih dari 6 menit maka digunakan 1 - probability. Apabila kurang dari 6 menit probabilitas nya adalah 96%."
   ]
  },
  {
   "cell_type": "markdown",
   "id": "967faea3",
   "metadata": {},
   "source": [
    "9.\tMisalkan suatu perusahaan memilih sampel secara acak yang terdiri dari 7 wanita dan 12 pria dari N populasi pada perusahaan tersebut. Tabel di bawah ini menunjukkan standar deviasi masing-masing sampel dan populasi. Hitunglah nilai distribusi F!\n",
    "\n",
    "|  Populasi  |  Standar Deviasi Populasi  |  Standar Deviasi Sampel  |\n",
    "\n",
    "|   Wanita   |             30             |            35            |\n",
    "\n",
    "|    Pria    |             50             |            45            |\n"
   ]
  },
  {
   "cell_type": "markdown",
   "id": "12f78f4e",
   "metadata": {},
   "source": [
    "Pada soal no 9 diketahui bahwa standar deviasi populasi wanita dan pria adalah 30 dan 50 sehingga nilai σ1^2 dan σ2^2 adalah 30 dan 50 (boleh dibalik 50 dan 30). Sedangkan nilai standar deviasi sampel wanita dan pria adalah 35 dan 45 sehingga nilai s1^2 dan s2^2 adalah 35 dan 45 (boleh dibalik 45 dan 35). Sehingga nilai distribusi f dapat dihitung dengan menggunakan persamaan berikut."
   ]
  },
  {
   "attachments": {
    "image.png": {
     "image/png": "[encoded data removed]"
    }
   },
   "cell_type": "markdown",
   "id": "082d0db9",
   "metadata": {},
   "source": [
    "![image.png](attachment:image.png)"
   ]
  },
  {
   "cell_type": "markdown",
   "id": "d7e3b5b9",
   "metadata": {},
   "source": [
    "Terdapat dua cara untuk menghitung nilai distribusi f pada data ini. Jika data wanita muncul di pembilang, kita dapat menghitung distribusi f sebagai berikut:"
   ]
  },
  {
   "attachments": {
    "image.png": {
     "image/png": "[encoded data removed]"
    }
   },
   "cell_type": "markdown",
   "id": "62dd12f2",
   "metadata": {},
   "source": [
    "![image.png](attachment:image.png)"
   ]
  },
  {
   "cell_type": "markdown",
   "id": "3a249631",
   "metadata": {},
   "source": [
    "Jika data pria muncul di pembilang, kita dapat menghitung nilai distribusi f dengan membalik σ1 dengan σ2 serta s1 dengan s2 sebagai berikut:"
   ]
  },
  {
   "attachments": {
    "image-2.png": {
     "image/png": "[encoded data removed]"
    }
   },
   "cell_type": "markdown",
   "id": "c0ebc882",
   "metadata": {},
   "source": [
    "![image-2.png](attachment:image-2.png)"
   ]
  },
  {
   "cell_type": "markdown",
   "id": "883aa2ff",
   "metadata": {},
   "source": [
    "10.\tPT ABC merupakan perusahaan nasional yang memproduksi bola lampu LED. CEO PT ABC mengklaim bahwa bola lampu ABC rata-rata bertahan 300 hari. Seorang quality control secara acak memilih 15 bola lampu untuk diuji. Berdasarkan hasil pengujian ternyata sampel hanya bertahan rata-rata 290 hari, dengan standar deviasi 50 hari. Jika klaim CEO PT ABC ternyata benar, berapakah probabilitas bahwa 15 bola lampu yang dipilih secara acak akan memiliki umur rata-rata tidak lebih dari 290 hari? "
   ]
  },
  {
   "cell_type": "markdown",
   "id": "cf2e1850",
   "metadata": {},
   "source": [
    "Berdasarkan soal no 10 diketahui nilai rata-rata sampel atau x_bar adalah 290 dan rata-rata populasi adalah 300. Standar deviasi dari sampel adalah 50, dan ditanyakan probabilitas untuk n = 15. Sehingga disini langkah pertama yang kita lakukan adalah menghitung nilai-t atau t-score dengan menggunakan persamaan berikut:"
   ]
  },
  {
   "attachments": {
    "image.png": {
     "image/png": "[encoded data removed]"
    }
   },
   "cell_type": "markdown",
   "id": "7a97ab2c",
   "metadata": {},
   "source": [
    "![image.png](attachment:image.png)"
   ]
  },
  {
   "cell_type": "markdown",
   "id": "bb82e9c9",
   "metadata": {},
   "source": [
    "Sehingga nilai t-score adalah -0,7745966. Apabila nilai derajat kebebasan dapat dicari dengan n-1, sehingga nilai derajat kebebasan atau df adalah 15 - 1 = 14. Sehingga dapat diimplementasikan dengan menggunakan kodingan berikut"
   ]
  },
  {
   "cell_type": "code",
   "execution_count": 12,
   "id": "928e90c8",
   "metadata": {},
   "outputs": [
    {
     "name": "stdout",
     "output_type": "stream",
     "text": [
      "Sehingga probabilitas bahwa 15 bola lampu yang dipilih secara acak akan memiliki umur rata-rata tidak lebih dari 290 hari adalah 22.57313120658352 %\n"
     ]
    }
   ],
   "source": [
    "from scipy.stats import t\n",
    "probability = t.cdf(x=-0.7745966, df=14)\n",
    "print(\"Sehingga probabilitas bahwa 15 bola lampu yang dipilih secara acak akan memiliki umur rata-rata tidak lebih dari 290 hari adalah\",probability*100,\"%\")"
   ]
  },
  {
   "cell_type": "markdown",
   "id": "191d6f49",
   "metadata": {},
   "source": [
    "# KUIS SUSULAN (28 Mei 2021)"
   ]
  },
  {
   "cell_type": "markdown",
   "id": "0252d600",
   "metadata": {},
   "source": [
    "1.\tSeorang produser konser telah menjadwalkan sebuah konser outdoor pada hari Jum’at, 28 Mei 2021. Jika tidak turun hujan, produser akan memperoleh keuntungan sebesar Rp. 20.000.000,00 dari konser tersebut. Jika terjadi hujan, maka produser akan terpaksa membatalkan konser dan akan mengalami kerugian sebesar Rp. 12.000.000,00 (biaya bintang tamu, biaya iklan, sewa lapangan, dll.). Untuk mengantisipasi kerugian, maka produser tersebut menganalisis kemungkinan hujan turun menggunakan aplikasi ramalan cuaca. Pada aplikasi ramalan cuaca ditunjukkan bahwa kemungkinan hujan pada tanggal 28 Mei 2021 adalah 0,4. Tentukan keuntungan yang diharapkan oleh produser konser tersebut!"
   ]
  },
  {
   "cell_type": "markdown",
   "id": "73eaa1a3",
   "metadata": {},
   "source": [
    "Fungsi expect value di atas digunakan untuk menghitung nilai yang diharapkan. Untuk parameter yang digunakan adalah a yaitu jumlah keuntungan dan kerugian yang diharapkan sehingga nilainya adalah -12 juta(kerugian pembatalan konser akibat hujan) dan 20 juta(keuntungan apabila hujan tidak turun dan konser berlanjut). Probabilitas mendapat kerugian 12 juta adalah ketika hujan turun atau probabilitas hujan = 0,4 sedangkan sisanya 0,6 merupakan probabilitas tidak turun hujan sehingga produser memperoleh keuntungan. Sehingga keuntungan yang diharapkan dapat dihitung sebagai berikut."
   ]
  },
  {
   "cell_type": "code",
   "execution_count": 13,
   "id": "32f059dc",
   "metadata": {},
   "outputs": [
    {
     "name": "stdout",
     "output_type": "stream",
     "text": [
      "Nilai keuntungan yang diharapkan oleh produser konser tersebut adalah Rp. 7200000.0\n"
     ]
    }
   ],
   "source": [
    "def expect_value(a, n, prb):\n",
    "    sum = 0\n",
    "    for i in range(0, n):\n",
    "        sum += (a[i] * prb[i]) \n",
    "    return float(sum)\n",
    "a = [ -12000000, 20000000]\n",
    "n = len(a);\n",
    "prb = [0.4,0.6]\n",
    "expect = expect_value(a, n, prb)\n",
    "print(\"Nilai keuntungan yang diharapkan oleh produser konser tersebut adalah Rp.\",expect)"
   ]
  },
  {
   "cell_type": "markdown",
   "id": "64efeda8",
   "metadata": {},
   "source": [
    "2.\tTerdapat 8 tim e-sport Indonesia yang akan bermain di turnamen piala presiden tahun 2021. Menurut pengamat turnamen, probabilitas tim A memenangkan permainan apa pun adalah 25%, probabilitas tim B menang adalah 7%, probabilitas tim C menang adalah 18%, probabilitas tim D menang adalah 12%, probabilitas tim E menang adalah 14%, probabilitas tim F menang adalah 10%, probabilitas tim G menang adalah 9%, dan probabilitas tim H menang adalah 5%. Jika turnamen diadakan selama 6 hari dan terdapat 36 pertandingan battle royale yang berlangsung, maka berapa probabilitas tim A memenangkan 10 permainan, tim B memenangkan 2 permainan, tim C memenangkan 8 permainan, tim D memenangkan 4 permainan, tim E memenangkan 5 permainan, tim F memenangkan 3 permainan, tim G memenangkan 3 permainan, dan tim H memenangkan 1 permainan? (Petunjuk: gunakan distribusi multinomial)"
   ]
  },
  {
   "cell_type": "markdown",
   "id": "ed5b8d60",
   "metadata": {},
   "source": [
    "Pada soal 2 terdapat 8 variabel yang diketahui sehingga dapat diklasifikasikan menjadi x1, x2, x3, x4, x5, x6, x7, dan x8 dimana memiliki probabilitas p1, p2, p3, p4, p5, p6, p7, dan p8. Untuk sampel yang digunakan adalah 36 sehingga n = 36. Dengan menggunakan distribusi hipergeometrik kita dapat menghitung probabilitas tim A memenangkan 10 permainan, tim B memenangkan 2 permainan, tim C memenangkan 8 permainan, tim D memenangkan 4 permainan, tim E memenangkan 5 permainan, tim F memenangkan 3 permainan, tim G memenangkan 3 permainan, dan tim H memenangkan 1 permainan sebagai berikut"
   ]
  },
  {
   "cell_type": "code",
   "execution_count": 14,
   "id": "a57e1030",
   "metadata": {},
   "outputs": [
    {
     "name": "stdout",
     "output_type": "stream",
     "text": [
      "Jadi probabilitasnya adalah 0.002566643269037295 %\n"
     ]
    }
   ],
   "source": [
    "import numpy as np\n",
    "from scipy.stats import multinomial\n",
    "# setting nilai n, p, dan x\n",
    "n = 36\n",
    "p1 = 0.25\n",
    "p2 = 0.07\n",
    "p3 = 0.18\n",
    "p4 = 0.12\n",
    "p5 = 0.14\n",
    "p6 = 0.10\n",
    "p7 = 0.09\n",
    "p8 = 0.05\n",
    "x1 = 10\n",
    "x2 = 2\n",
    "x3 = 8\n",
    "x4 = 4\n",
    "x5 = 5\n",
    "x6 = 3\n",
    "x7 = 3\n",
    "x8 = 1\n",
    "print(\"Jadi probabilitasnya adalah\",\n",
    "      multinomial.pmf([x1, x2, x3, x4, x5, x6, x7, x8], n=n, p=[p1, p2, p3, p4, p5, p6, p7, p8])*100,\"%\")"
   ]
  },
  {
   "cell_type": "markdown",
   "id": "eabf9bd3",
   "metadata": {},
   "source": [
    "3.\tPersatuan Pelajar Indonesia (PPI) di Jepang ingin membentuk komite event peringatan hari kemerdekaan Indonesia yang dipilih secara acak dari pengurus PPI. Apabila pengurus PPI terdiri dari 40 mahasiswa yang berasal dari Indonesia Barat, 35 mahasiswa yang berasal dari Indonesia Tengah, dan 25 mahasiswa yang berasal dari Indonesia Timur. Jika komite terdiri dari 10 mahasiswa, maka hitung probabilitas komite event tersebut mencakup tiga mahasiswa yang berasal dari Indonesia Barat, lima mahasiswa yang berasal dari Indonesia Tengah, dan dua mahasiswa yang berasal dari Indonesia Timur. (Petunjuk: gunakan distribusi hipergeometrik)"
   ]
  },
  {
   "cell_type": "markdown",
   "id": "c020a643",
   "metadata": {},
   "source": [
    "Pada soal no 3 menggunakan distribusi multivariat hipergeometrik sebagai berikut"
   ]
  },
  {
   "cell_type": "code",
   "execution_count": 15,
   "id": "a92fe5bc",
   "metadata": {},
   "outputs": [
    {
     "name": "stdout",
     "output_type": "stream",
     "text": [
      "Jadi probabilitas komite event tersebut mencakup tiga mahasiswa yang berasal dari Indonesia Barat, lima mahasiswa yang berasal dari Indonesia Tengah, dan dua mahasiswa yang berasal dari Indonesia Timur adalah 5.558590679278855 %\n"
     ]
    }
   ],
   "source": [
    "import numpy as np\n",
    "from scipy.special import comb\n",
    "class Mahasiswa:\n",
    "    def __init__(self, K_arr):\n",
    "        self.K_arr = np.array(K_arr)\n",
    "        self.N = np.sum(K_arr)\n",
    "        self.c = len(K_arr)\n",
    "        \n",
    "    def pmf(self, k_arr):\n",
    "        K_arr, N = self.K_arr, self.N\n",
    "        k_arr = np.atleast_2d(k_arr)\n",
    "        n = np.sum(k_arr, 1)\n",
    "        num = np.prod(comb(K_arr, k_arr), 1)\n",
    "        denom = comb(N, n)\n",
    "        pr = num / denom\n",
    "        return pr[0]\n",
    "    \n",
    "#K_arr merupakan jumlah x dalam populasi N    \n",
    "K_arr = [40, 35, 25]\n",
    "mhs = Mahasiswa(K_arr)\n",
    "#k_arr merupakan jumlah x dalam sampel n\n",
    "k_arr = [3,5,2]\n",
    "print(\"Jadi probabilitas komite event tersebut mencakup tiga mahasiswa yang berasal dari Indonesia Barat, lima mahasiswa yang berasal dari Indonesia Tengah, dan dua mahasiswa yang berasal dari Indonesia Timur adalah\",mhs.pmf(k_arr)*100,\"%\")"
   ]
  },
  {
   "cell_type": "markdown",
   "id": "92ed0bbb",
   "metadata": {},
   "source": [
    "4.\tSebuah laptop dengan merk X, mengklaim bahwa lamanya waktu ketahanan daya baterai didistribusikan secara normal dengan rata-rata adalah 5 jam dan standar deviasi 1,5 jam. Bejo membeli laptop tersebut dan ingin mengetahui ketahanan daya baterai laptop tersebut untuk penggunaan normal. Bantulah Bejo untuk menghitung probabilitas laptop tersebut dapat bertahan antara 5 dan 7 jam penggunaan normal! (Petunjuk: gunakan distribusi normal)"
   ]
  },
  {
   "cell_type": "markdown",
   "id": "e1cd2cb5",
   "metadata": {},
   "source": [
    "Diketahui nilai mean adalah 5 dan nilai standar deviasi adalah 1.5, sehingga dengan menggunakan distribusi normal dapat dihitung sebagai berikut"
   ]
  },
  {
   "cell_type": "code",
   "execution_count": 16,
   "id": "6f14051b",
   "metadata": {},
   "outputs": [],
   "source": [
    "from scipy.stats import norm\n",
    "import statistics\n",
    "import numpy as np\n",
    "x_axis = np.arange(0, 10, 0.01)\n",
    "mean = 5\n",
    "sd = 1.5\n",
    "y_axis = norm.pdf(x_axis, mean, sd)"
   ]
  },
  {
   "cell_type": "markdown",
   "id": "3544ce94",
   "metadata": {},
   "source": [
    "Apabila digambarkan dalam bentuk kurva normal, maka akan menghasilkan gambar berikut"
   ]
  },
  {
   "cell_type": "code",
   "execution_count": 17,
   "id": "82ba25db",
   "metadata": {},
   "outputs": [
    {
     "name": "stderr",
     "output_type": "stream",
     "text": [
      "C:\\Users\\Ay\\anaconda3\\lib\\site-packages\\seaborn\\_decorators.py:36: FutureWarning: Pass the following variables as keyword args: x, y. From version 0.12, the only valid positional argument will be `data`, and passing other arguments without an explicit keyword will result in an error or misinterpretation.\n",
      "  warnings.warn(\n"
     ]
    },
    {
     "data": {
      "text/plain": [
       "Text(0, 0.5, 'Probability Density')"
      ]
     },
     "execution_count": 17,
     "metadata": {},
     "output_type": "execute_result"
    },
    {
     "data": {
      "image/png": "[encoded data removed]",
      "text/plain": [
       "<Figure size 432x288 with 1 Axes>"
      ]
     },
     "metadata": {},
     "output_type": "display_data"
    }
   ],
   "source": [
    "import matplotlib.pyplot as plt\n",
    "import seaborn as sb\n",
    "\n",
    "sb.set_style('whitegrid')\n",
    "sb.lineplot(x_axis, y_axis , color = 'black')\n",
    "plt.xlabel('Heights')\n",
    "plt.ylabel('Probability Density')"
   ]
  },
  {
   "cell_type": "markdown",
   "id": "d26be29e",
   "metadata": {},
   "source": [
    "Karena yang dicari disini adalah ketahanan baterai antara 5 dan 7 jam, sehingga nilai probabilitasnya dapat dihitung dengan menghitung luas antara 5 dan 7 sebagai berikut:"
   ]
  },
  {
   "cell_type": "code",
   "execution_count": 18,
   "id": "bd34c4f4",
   "metadata": {},
   "outputs": [
    {
     "name": "stdout",
     "output_type": "stream",
     "text": [
      "Probabilitas laptop tersebut dapat bertahan antara 5 dan 7 jam penggunaan normal adalah 40.878878027413215 %\n"
     ]
    }
   ],
   "source": [
    "cdf_upper_limit = norm(loc=mean,scale=sd).cdf(7)\n",
    "cdf_lower_limit = norm(loc=mean,scale=sd).cdf(5)\n",
    "\n",
    "p = cdf_upper_limit - cdf_lower_limit\n",
    "print(\"Probabilitas laptop tersebut dapat bertahan antara 5 dan 7 jam penggunaan normal adalah\",p*100,\"%\")"
   ]
  },
  {
   "cell_type": "markdown",
   "id": "8a3de704",
   "metadata": {},
   "source": [
    "5.\tStatistika kelas A yang terdiri dari 25 mahasiswa dengan nilai rata-rata kuis kelas tersebut adalah 60 dari 100, dan standar deviasi 4. Sedangkan mahasiswa kelas lainnya memiliki nilai rata-rata 50 pada kuis yang sama. Berapa nilai-t (t-score) untuk menghitung probabilitas bahwa mahasiswa statistika kelas A memperoleh nilai tidak kurang dari 60 pada kuis tersebut? "
   ]
  },
  {
   "cell_type": "markdown",
   "id": "29be99d3",
   "metadata": {},
   "source": [
    "Berdasarkan soal diketahui rata-rata sampel atau x_bar adalah 60 dan rata-rata popilasi adalah 50. Nilai standar deviasi atau s adalah 4 dan jumlah sampel atau n adalah 25 sehingga dapat dihitung sebagai berikut :"
   ]
  },
  {
   "attachments": {
    "image.png": {
     "image/png": "[encoded data removed]"
    }
   },
   "cell_type": "markdown",
   "id": "e718c4db",
   "metadata": {},
   "source": [
    "![image.png](attachment:image.png)"
   ]
  },
  {
   "cell_type": "markdown",
   "id": "7796f888",
   "metadata": {},
   "source": [
    "Sehingga nilai t atau t-score adalah 12.5"
   ]
  }
 ],
 "metadata": {
  "kernelspec": {
   "display_name": "Python 3",
   "language": "python",
   "name": "python3"
  },
  "language_info": {
   "codemirror_mode": {
    "name": "ipython",
    "version": 3
   },
   "file_extension": ".py",
   "mimetype": "text/x-python",
   "name": "python",
   "nbconvert_exporter": "python",
   "pygments_lexer": "ipython3",
   "version": "3.8.8"
  }
 },
 "nbformat": 4,
 "nbformat_minor": 5
}
